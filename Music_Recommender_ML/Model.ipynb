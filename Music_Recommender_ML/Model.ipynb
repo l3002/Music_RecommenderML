{
 "cells": [
  {
   "cell_type": "code",
   "execution_count": 177,
   "id": "367efd4e-38ad-4b3c-8163-3098b7726b6a",
   "metadata": {},
   "outputs": [
    {
     "data": {
      "text/plain": [
       "['music_recommender.joblib']"
      ]
     },
     "execution_count": 177,
     "metadata": {},
     "output_type": "execute_result"
    }
   ],
   "source": [
    "import pandas as pd\n",
    "from sklearn.tree import DecisionTreeClassifier\n",
    "from sklearn.model_selection import train_test_split\n",
    "from sklearn.metrics import accuracy_score\n",
    "import joblib\n",
    "df=pd.read_csv('music.csv')\n",
    "df\n",
    "\n",
    "X=df.drop(columns=['genre'])\n",
    "Y=df['genre']\n",
    "X_train, X_test, Y_train, Y_test = train_test_split(X,Y, test_size=0.2)\n",
    "\n",
    "model= DecisionTreeClassifier()\n",
    "model.fit(X_train, Y_train)\n",
    "predictions =model.predict(X_test)\n",
    "\n",
    "joblib.dump(model, 'music_recommender.joblib')\n",
    "\n",
    "# score=accuracy_score(Y_test, predictions)\n",
    "# score"
   ]
  },
  {
   "cell_type": "code",
   "execution_count": null,
   "id": "52b6935f-9e83-488a-9438-cb7b47638533",
   "metadata": {},
   "outputs": [],
   "mimetype": "text/x-python",
   "name": "python",
   "nbconvert_exporter": "python",
   "pygments_lexer": "ipython3",
   "version": "3.12.3"
  }
 },
 "nbformat": 4,
 "nbformat_minor": 5
}
